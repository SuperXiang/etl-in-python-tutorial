{
 "cells": [
  {
   "cell_type": "code",
   "execution_count": 1,
   "metadata": {},
   "outputs": [],
   "source": [
    "from utils import read_clean_data, test_columns_and_data_type, test_gte_min_variables, test_continuous_outlier_variables"
   ]
  },
  {
   "cell_type": "code",
   "execution_count": 18,
   "metadata": {},
   "outputs": [],
   "source": [
    "new_filename = 'data/2005-04_sales.csv'\n",
    "new_data = read_clean_data(new_filename)\n",
    "\n",
    "my_test_results = dict()"
   ]
  },
  {
   "cell_type": "code",
   "execution_count": 3,
   "metadata": {},
   "outputs": [
    {
     "data": {
      "text/html": [
       "<div>\n",
       "<style scoped>\n",
       "    .dataframe tbody tr th:only-of-type {\n",
       "        vertical-align: middle;\n",
       "    }\n",
       "\n",
       "    .dataframe tbody tr th {\n",
       "        vertical-align: top;\n",
       "    }\n",
       "\n",
       "    .dataframe thead th {\n",
       "        text-align: right;\n",
       "    }\n",
       "</style>\n",
       "<table border=\"1\" class=\"dataframe\">\n",
       "  <thead>\n",
       "    <tr style=\"text-align: right;\">\n",
       "      <th></th>\n",
       "      <th>ORDERNUMBER</th>\n",
       "      <th>QUANTITYORDERED</th>\n",
       "      <th>PRICEEACH</th>\n",
       "      <th>ORDERLINENUMBER</th>\n",
       "      <th>SALES</th>\n",
       "      <th>ORDERDATE</th>\n",
       "      <th>STATUS</th>\n",
       "      <th>MONTH_ID</th>\n",
       "      <th>YEAR_ID</th>\n",
       "      <th>PRODUCTLINE</th>\n",
       "      <th>...</th>\n",
       "      <th>ADDRESSLINE1</th>\n",
       "      <th>ADDRESSLINE2</th>\n",
       "      <th>CITY</th>\n",
       "      <th>STATE</th>\n",
       "      <th>POSTALCODE</th>\n",
       "      <th>COUNTRY</th>\n",
       "      <th>TERRITORY</th>\n",
       "      <th>CONTACTLASTNAME</th>\n",
       "      <th>CONTACTFIRSTNAME</th>\n",
       "      <th>DEALSIZE</th>\n",
       "    </tr>\n",
       "  </thead>\n",
       "  <tbody>\n",
       "    <tr>\n",
       "      <th>0</th>\n",
       "      <td>10403</td>\n",
       "      <td>24</td>\n",
       "      <td>100.0</td>\n",
       "      <td>7</td>\n",
       "      <td>2434.56</td>\n",
       "      <td>4/8/2005 0:00</td>\n",
       "      <td>Shipped</td>\n",
       "      <td>4</td>\n",
       "      <td>2005</td>\n",
       "      <td>Motorcycles</td>\n",
       "      <td>...</td>\n",
       "      <td>Berkeley Gardens 12  Brewery</td>\n",
       "      <td>NaN</td>\n",
       "      <td>Liverpool</td>\n",
       "      <td>NaN</td>\n",
       "      <td>WX1 6LT</td>\n",
       "      <td>UK</td>\n",
       "      <td>EMEA</td>\n",
       "      <td>Devon</td>\n",
       "      <td>Elizabeth</td>\n",
       "      <td>Small</td>\n",
       "    </tr>\n",
       "    <tr>\n",
       "      <th>1</th>\n",
       "      <td>10402</td>\n",
       "      <td>45</td>\n",
       "      <td>100.0</td>\n",
       "      <td>1</td>\n",
       "      <td>5833.80</td>\n",
       "      <td>4/7/2005 0:00</td>\n",
       "      <td>Shipped</td>\n",
       "      <td>4</td>\n",
       "      <td>2005</td>\n",
       "      <td>Motorcycles</td>\n",
       "      <td>...</td>\n",
       "      <td>25, rue Lauriston</td>\n",
       "      <td>NaN</td>\n",
       "      <td>Paris</td>\n",
       "      <td>NaN</td>\n",
       "      <td>75016</td>\n",
       "      <td>France</td>\n",
       "      <td>EMEA</td>\n",
       "      <td>Perrier</td>\n",
       "      <td>Dominique</td>\n",
       "      <td>Medium</td>\n",
       "    </tr>\n",
       "    <tr>\n",
       "      <th>2</th>\n",
       "      <td>10403</td>\n",
       "      <td>66</td>\n",
       "      <td>100.0</td>\n",
       "      <td>9</td>\n",
       "      <td>11886.60</td>\n",
       "      <td>4/8/2005 0:00</td>\n",
       "      <td>Shipped</td>\n",
       "      <td>4</td>\n",
       "      <td>2005</td>\n",
       "      <td>Motorcycles</td>\n",
       "      <td>...</td>\n",
       "      <td>Berkeley Gardens 12  Brewery</td>\n",
       "      <td>NaN</td>\n",
       "      <td>Liverpool</td>\n",
       "      <td>NaN</td>\n",
       "      <td>WX1 6LT</td>\n",
       "      <td>UK</td>\n",
       "      <td>EMEA</td>\n",
       "      <td>Devon</td>\n",
       "      <td>Elizabeth</td>\n",
       "      <td>Large</td>\n",
       "    </tr>\n",
       "    <tr>\n",
       "      <th>3</th>\n",
       "      <td>10400</td>\n",
       "      <td>64</td>\n",
       "      <td>100.0</td>\n",
       "      <td>9</td>\n",
       "      <td>9661.44</td>\n",
       "      <td>4/1/2005 0:00</td>\n",
       "      <td>Shipped</td>\n",
       "      <td>4</td>\n",
       "      <td>2005</td>\n",
       "      <td>Classic Cars</td>\n",
       "      <td>...</td>\n",
       "      <td>3086 Ingle Ln.</td>\n",
       "      <td>NaN</td>\n",
       "      <td>San Jose</td>\n",
       "      <td>CA</td>\n",
       "      <td>94217</td>\n",
       "      <td>USA</td>\n",
       "      <td>NaN</td>\n",
       "      <td>Frick</td>\n",
       "      <td>Sue</td>\n",
       "      <td>Large</td>\n",
       "    </tr>\n",
       "    <tr>\n",
       "      <th>4</th>\n",
       "      <td>10403</td>\n",
       "      <td>66</td>\n",
       "      <td>100.0</td>\n",
       "      <td>6</td>\n",
       "      <td>8648.64</td>\n",
       "      <td>4/8/2005 0:00</td>\n",
       "      <td>Shipped</td>\n",
       "      <td>4</td>\n",
       "      <td>2005</td>\n",
       "      <td>Motorcycles</td>\n",
       "      <td>...</td>\n",
       "      <td>Berkeley Gardens 12  Brewery</td>\n",
       "      <td>NaN</td>\n",
       "      <td>Liverpool</td>\n",
       "      <td>NaN</td>\n",
       "      <td>WX1 6LT</td>\n",
       "      <td>UK</td>\n",
       "      <td>EMEA</td>\n",
       "      <td>Devon</td>\n",
       "      <td>Elizabeth</td>\n",
       "      <td>Large</td>\n",
       "    </tr>\n",
       "  </tbody>\n",
       "</table>\n",
       "<p>5 rows × 24 columns</p>\n",
       "</div>"
      ],
      "text/plain": [
       "   ORDERNUMBER  QUANTITYORDERED  PRICEEACH  ORDERLINENUMBER     SALES  \\\n",
       "0        10403               24      100.0                7   2434.56   \n",
       "1        10402               45      100.0                1   5833.80   \n",
       "2        10403               66      100.0                9  11886.60   \n",
       "3        10400               64      100.0                9   9661.44   \n",
       "4        10403               66      100.0                6   8648.64   \n",
       "\n",
       "       ORDERDATE   STATUS  MONTH_ID  YEAR_ID   PRODUCTLINE  ...  \\\n",
       "0  4/8/2005 0:00  Shipped         4     2005   Motorcycles  ...   \n",
       "1  4/7/2005 0:00  Shipped         4     2005   Motorcycles  ...   \n",
       "2  4/8/2005 0:00  Shipped         4     2005   Motorcycles  ...   \n",
       "3  4/1/2005 0:00  Shipped         4     2005  Classic Cars  ...   \n",
       "4  4/8/2005 0:00  Shipped         4     2005   Motorcycles  ...   \n",
       "\n",
       "                   ADDRESSLINE1 ADDRESSLINE2       CITY STATE POSTALCODE  \\\n",
       "0  Berkeley Gardens 12  Brewery          NaN  Liverpool   NaN    WX1 6LT   \n",
       "1             25, rue Lauriston          NaN      Paris   NaN      75016   \n",
       "2  Berkeley Gardens 12  Brewery          NaN  Liverpool   NaN    WX1 6LT   \n",
       "3                3086 Ingle Ln.          NaN   San Jose    CA      94217   \n",
       "4  Berkeley Gardens 12  Brewery          NaN  Liverpool   NaN    WX1 6LT   \n",
       "\n",
       "  COUNTRY TERRITORY CONTACTLASTNAME CONTACTFIRSTNAME DEALSIZE  \n",
       "0      UK      EMEA           Devon        Elizabeth    Small  \n",
       "1  France      EMEA         Perrier        Dominique   Medium  \n",
       "2      UK      EMEA           Devon        Elizabeth    Large  \n",
       "3     USA       NaN           Frick              Sue    Large  \n",
       "4      UK      EMEA           Devon        Elizabeth    Large  \n",
       "\n",
       "[5 rows x 24 columns]"
      ]
     },
     "execution_count": 3,
     "metadata": {},
     "output_type": "execute_result"
    }
   ],
   "source": [
    "new_data.head()"
   ]
  },
  {
   "cell_type": "code",
   "execution_count": 19,
   "metadata": {},
   "outputs": [
    {
     "name": "stdout",
     "output_type": "stream",
     "text": [
      "[SUCCESS] - dataframes have same columns and dtypes\n"
     ]
    }
   ],
   "source": [
    "cols_and_dtype = test_columns_and_data_type(new_data)\n",
    "\n",
    "my_test_results['cols_and_dtype'] = cols_and_dtype"
   ]
  },
  {
   "cell_type": "code",
   "execution_count": 21,
   "metadata": {},
   "outputs": [
    {
     "name": "stdout",
     "output_type": "stream",
     "text": [
      "[SUCCESS] - All ORDERNUMBER >= minimum requirement\n",
      "[SUCCESS] - All ORDERLINENUMBER >= minimum requirement\n"
     ]
    }
   ],
   "source": [
    "gte_min = test_gte_min_variables(new_data)\n",
    "\n",
    "my_test_results['gte_min'] = gte_min"
   ]
  },
  {
   "cell_type": "code",
   "execution_count": 22,
   "metadata": {},
   "outputs": [
    {
     "name": "stdout",
     "output_type": "stream",
     "text": [
      "[SUCCESS] - QUANTITYORDERED - fits the outlier requirements!\n",
      "[SUCCESS] - PRICEEACH - fits the outlier requirements!\n",
      "[SUCCESS] - SALES - fits the outlier requirements!\n",
      "[SUCCESS] - MSRP - fits the outlier requirements!\n"
     ]
    }
   ],
   "source": [
    "outlier_variables = test_continuous_outlier_variables(new_data)\n",
    "\n",
    "my_test_results['outlier_variables'] = outlier_variables"
   ]
  },
  {
   "cell_type": "code",
   "execution_count": 54,
   "metadata": {},
   "outputs": [
    {
     "name": "stdout",
     "output_type": "stream",
     "text": [
      "[Success] - All tests have passed:\n",
      "('cols_and_dtype', True)\n",
      "('gte_min', True)\n",
      "('outlier_variables', True)\n"
     ]
    }
   ],
   "source": [
    "unique_results = [i for i in my_test_results.values()]\n",
    "\n",
    "if all(unique_results):\n",
    "    print('[Success] - All tests have passed:')\n",
    "    [print(i) for i in my_test_results.items()]\n",
    "else:\n",
    "    print('[Error] - All Tests did not pass!')\n",
    "    [print(i) for i in my_test_results.items()]"
   ]
  }
 ],
 "metadata": {
  "kernelspec": {
   "display_name": "Python 3",
   "language": "python",
   "name": "python3"
  },
  "language_info": {
   "codemirror_mode": {
    "name": "ipython",
    "version": 3
   },
   "file_extension": ".py",
   "mimetype": "text/x-python",
   "name": "python",
   "nbconvert_exporter": "python",
   "pygments_lexer": "ipython3",
   "version": "3.7.6"
  }
 },
 "nbformat": 4,
 "nbformat_minor": 4
}
